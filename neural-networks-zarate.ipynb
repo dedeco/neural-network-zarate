{
 "cells": [
  {
   "cell_type": "code",
   "execution_count": 1,
   "metadata": {},
   "outputs": [],
   "source": [
    "# DESCOBERTA DE CONHECIMENTO EM BANCOS DE DADOS E MINERAÇÃO DE DADOS\n",
    "# Este é um exemplo bem simples de uma REDE NEURAL para reconhecimento de dígitos.\n",
    "# Problema de classificação\n",
    "# DATASET: 64 campos que formam a imagem de 1 dígito, ou seja, um número de 0 a 9.\n",
    "# O objetivo será classificar cada imagem em um das 10 classes: 0 até 9.\n",
    "\n",
    "from sklearn import datasets"
   ]
  },
  {
   "cell_type": "code",
   "execution_count": 2,
   "metadata": {},
   "outputs": [],
   "source": [
    "d = datasets.load_digits()"
   ]
  },
  {
   "cell_type": "code",
   "execution_count": 3,
   "metadata": {},
   "outputs": [
    {
     "name": "stdout",
     "output_type": "stream",
     "text": [
      "['images', 'data', 'target_names', 'DESCR', 'target']\n"
     ]
    }
   ],
   "source": [
    "print(d.keys())"
   ]
  },
  {
   "cell_type": "code",
   "execution_count": null,
   "metadata": {},
   "outputs": [],
   "source": []
  },
  {
   "cell_type": "code",
   "execution_count": 4,
   "metadata": {},
   "outputs": [
    {
     "name": "stdout",
     "output_type": "stream",
     "text": [
      "Optical Recognition of Handwritten Digits Data Set\n",
      "===================================================\n",
      "\n",
      "Notes\n",
      "-----\n",
      "Data Set Characteristics:\n",
      "    :Number of Instances: 5620\n",
      "    :Number of Attributes: 64\n",
      "    :Attribute Information: 8x8 image of integer pixels in the range 0..16.\n",
      "    :Missing Attribute Values: None\n",
      "    :Creator: E. Alpaydin (alpaydin '@' boun.edu.tr)\n",
      "    :Date: July; 1998\n",
      "\n",
      "This is a copy of the test set of the UCI ML hand-written digits datasets\n",
      "http://archive.ics.uci.edu/ml/datasets/Optical+Recognition+of+Handwritten+Digits\n",
      "\n",
      "The data set contains images of hand-written digits: 10 classes where\n",
      "each class refers to a digit.\n",
      "\n",
      "Preprocessing programs made available by NIST were used to extract\n",
      "normalized bitmaps of handwritten digits from a preprinted form. From a\n",
      "total of 43 people, 30 contributed to the training set and different 13\n",
      "to the test set. 32x32 bitmaps are divided into nonoverlapping blocks of\n",
      "4x4 and the number of on pixels are counted in each block. This generates\n",
      "an input matrix of 8x8 where each element is an integer in the range\n",
      "0..16. This reduces dimensionality and gives invariance to small\n",
      "distortions.\n",
      "\n",
      "For info on NIST preprocessing routines, see M. D. Garris, J. L. Blue, G.\n",
      "T. Candela, D. L. Dimmick, J. Geist, P. J. Grother, S. A. Janet, and C.\n",
      "L. Wilson, NIST Form-Based Handprint Recognition System, NISTIR 5469,\n",
      "1994.\n",
      "\n",
      "References\n",
      "----------\n",
      "  - C. Kaynak (1995) Methods of Combining Multiple Classifiers and Their\n",
      "    Applications to Handwritten Digit Recognition, MSc Thesis, Institute of\n",
      "    Graduate Studies in Science and Engineering, Bogazici University.\n",
      "  - E. Alpaydin, C. Kaynak (1998) Cascading Classifiers, Kybernetika.\n",
      "  - Ken Tang and Ponnuthurai N. Suganthan and Xi Yao and A. Kai Qin.\n",
      "    Linear dimensionalityreduction using relevance weighted LDA. School of\n",
      "    Electrical and Electronic Engineering Nanyang Technological University.\n",
      "    2005.\n",
      "  - Claudio Gentile. A New Approximate Maximal Margin Classification\n",
      "    Algorithm. NIPS. 2000.\n",
      "\n"
     ]
    }
   ],
   "source": [
    "print(d['DESCR']) # Informações sobre o DATASET\n"
   ]
  },
  {
   "cell_type": "code",
   "execution_count": 5,
   "metadata": {},
   "outputs": [
    {
     "name": "stdout",
     "output_type": "stream",
     "text": [
      "[ 0.  0.  0. 12. 13.  5.  0.  0.  0.  0.  0. 11. 16.  9.  0.  0.  0.  0.\n",
      "  3. 15. 16.  6.  0.  0.  0.  7. 15. 16. 16.  2.  0.  0.  0.  0.  1. 16.\n",
      " 16.  3.  0.  0.  0.  0.  1. 16. 16.  6.  0.  0.  0.  0.  1. 16. 16.  6.\n",
      "  0.  0.  0.  0.  0. 11. 16. 10.  0.  0.]\n"
     ]
    }
   ],
   "source": [
    "print(d['data'][1]) # Primeira imagem. Exemplo de algumas imagens do DATASET."
   ]
  },
  {
   "cell_type": "code",
   "execution_count": 6,
   "metadata": {},
   "outputs": [],
   "source": [
    "import matplotlib.pyplot as plot #Plotando a imagem do DATASET da posição acima. "
   ]
  },
  {
   "cell_type": "code",
   "execution_count": 8,
   "metadata": {},
   "outputs": [
    {
     "data": {
      "text/plain": [
       "array([[ 0.,  0.,  0., 12., 13.,  5.,  0.,  0.],\n",
       "       [ 0.,  0.,  0., 11., 16.,  9.,  0.,  0.],\n",
       "       [ 0.,  0.,  3., 15., 16.,  6.,  0.,  0.],\n",
       "       [ 0.,  7., 15., 16., 16.,  2.,  0.,  0.],\n",
       "       [ 0.,  0.,  1., 16., 16.,  3.,  0.,  0.],\n",
       "       [ 0.,  0.,  1., 16., 16.,  6.,  0.,  0.],\n",
       "       [ 0.,  0.,  1., 16., 16.,  6.,  0.,  0.],\n",
       "       [ 0.,  0.,  0., 11., 16., 10.,  0.,  0.]])"
      ]
     },
     "execution_count": 8,
     "metadata": {},
     "output_type": "execute_result"
    }
   ],
   "source": [
    "d.images[1]"
   ]
  },
  {
   "cell_type": "code",
   "execution_count": 7,
   "metadata": {},
   "outputs": [
    {
     "data": {
      "image/png": "[encoded data removed]",
      "text/plain": [
       "<matplotlib.figure.Figure at 0x10a884550>"
      ]
     },
     "metadata": {},
     "output_type": "display_data"
    }
   ],
   "source": [
    "plot.figure(1, figsize=(3, 3))\n",
    "plot.imshow(d.images[1], cmap=plot.cm.gray_r, interpolation='nearest')\n",
    "plot.show()"
   ]
  },
  {
   "cell_type": "code",
   "execution_count": 8,
   "metadata": {},
   "outputs": [],
   "source": [
    "import math"
   ]
  },
  {
   "cell_type": "code",
   "execution_count": 9,
   "metadata": {},
   "outputs": [
    {
     "name": "stdout",
     "output_type": "stream",
     "text": [
      "1797\n"
     ]
    }
   ],
   "source": [
    "dados = d['data']\n",
    "print(len(dados)) # Número de instâncias"
   ]
  },
  {
   "cell_type": "code",
   "execution_count": 10,
   "metadata": {},
   "outputs": [],
   "source": [
    "idx_treinamento = math.floor(len(dados)*0.7)"
   ]
  },
  {
   "cell_type": "code",
   "execution_count": 11,
   "metadata": {
    "scrolled": true
   },
   "outputs": [
    {
     "name": "stdout",
     "output_type": "stream",
     "text": [
      "1257\n"
     ]
    }
   ],
   "source": [
    "print (idx_treinamento) # Separando 70% dos dados para treinamento\n"
   ]
  },
  {
   "cell_type": "code",
   "execution_count": 12,
   "metadata": {},
   "outputs": [],
   "source": [
    "cjtreinamento = dados [:idx_treinamento] # Slice do array da posição 0 até 1257"
   ]
  },
  {
   "cell_type": "code",
   "execution_count": 13,
   "metadata": {},
   "outputs": [],
   "source": [
    "idx_teste = len(dados) - idx_treinamento # Separando 30% para testes"
   ]
  },
  {
   "cell_type": "code",
   "execution_count": 14,
   "metadata": {},
   "outputs": [
    {
     "name": "stdout",
     "output_type": "stream",
     "text": [
      "540\n"
     ]
    }
   ],
   "source": [
    "print (idx_teste) "
   ]
  },
  {
   "cell_type": "code",
   "execution_count": 15,
   "metadata": {},
   "outputs": [],
   "source": [
    "cjteste = dados [idx_treinamento:]  #Slice do array da posição 1257 até final do array"
   ]
  },
  {
   "cell_type": "code",
   "execution_count": 16,
   "metadata": {},
   "outputs": [
    {
     "name": "stdout",
     "output_type": "stream",
     "text": [
      "1797\n"
     ]
    }
   ],
   "source": [
    "print (idx_treinamento + idx_teste) # total"
   ]
  },
  {
   "cell_type": "code",
   "execution_count": 17,
   "metadata": {},
   "outputs": [],
   "source": [
    "from sklearn.neural_network import MLPClassifier"
   ]
  },
  {
   "cell_type": "code",
   "execution_count": 18,
   "metadata": {},
   "outputs": [],
   "source": [
    "# usei a função de ativação logistic (sigmoid function) e taxa de aprendizado = 0.1\n",
    "\n",
    "c = MLPClassifier(activation='logistic', learning_rate_init=0.1, verbose=True)"
   ]
  },
  {
   "cell_type": "code",
   "execution_count": 19,
   "metadata": {},
   "outputs": [
    {
     "name": "stdout",
     "output_type": "stream",
     "text": [
      "[[  0.   0.   5. ...,   0.   0.   0.]\n",
      " [  0.   0.   0. ...,  10.   0.   0.]\n",
      " [  0.   0.   0. ...,  16.   9.   0.]\n",
      " ..., \n",
      " [  0.   0.   0. ...,   3.   0.   0.]\n",
      " [  0.   0.   5. ...,  11.   3.   0.]\n",
      " [  0.   0.   3. ...,   0.   0.   0.]]\n"
     ]
    }
   ],
   "source": [
    "print(cjtreinamento)"
   ]
  },
  {
   "cell_type": "code",
   "execution_count": 20,
   "metadata": {},
   "outputs": [
    {
     "name": "stdout",
     "output_type": "stream",
     "text": [
      "[0 1 2 ..., 8 9 8]\n"
     ]
    },
    {
     "data": {
      "text/plain": [
       "1797"
      ]
     },
     "execution_count": 20,
     "metadata": {},
     "output_type": "execute_result"
    }
   ],
   "source": [
    "print (d['target'])\n",
    "len(d['target'])"
   ]
  },
  {
   "cell_type": "code",
   "execution_count": 21,
   "metadata": {},
   "outputs": [
    {
     "data": {
      "text/plain": [
       "1257"
      ]
     },
     "execution_count": 21,
     "metadata": {},
     "output_type": "execute_result"
    }
   ],
   "source": [
    "rotulos = d['target']\n",
    "rotulos_treinamento = rotulos[:idx_treinamento] # Slice dos rotulos da posição 0 até 1257\n",
    "len(rotulos_treinamento)"
   ]
  },
  {
   "cell_type": "code",
   "execution_count": 22,
   "metadata": {},
   "outputs": [
    {
     "name": "stdout",
     "output_type": "stream",
     "text": [
      "Iteration 1, loss = 3.24530492\n",
      "Iteration 2, loss = 1.71752405\n",
      "Iteration 3, loss = 0.78918341\n",
      "Iteration 4, loss = 0.55784299\n",
      "Iteration 5, loss = 0.38545551\n",
      "Iteration 6, loss = 0.37805384\n",
      "Iteration 7, loss = 0.35157580\n",
      "Iteration 8, loss = 0.29397945\n",
      "Iteration 9, loss = 0.25078040\n",
      "Iteration 10, loss = 0.25247639\n",
      "Iteration 11, loss = 0.18218719\n",
      "Iteration 12, loss = 0.15099093\n",
      "Iteration 13, loss = 0.16091516\n",
      "Iteration 14, loss = 0.16631149\n",
      "Iteration 15, loss = 0.27205472\n",
      "Training loss did not improve more than tol=0.000100 for two consecutive epochs. Stopping.\n"
     ]
    },
    {
     "data": {
      "text/plain": [
       "MLPClassifier(activation='logistic', alpha=0.0001, batch_size='auto',\n",
       "       beta_1=0.9, beta_2=0.999, early_stopping=False, epsilon=1e-08,\n",
       "       hidden_layer_sizes=(100,), learning_rate='constant',\n",
       "       learning_rate_init=0.1, max_iter=200, momentum=0.9,\n",
       "       nesterovs_momentum=True, power_t=0.5, random_state=None,\n",
       "       shuffle=True, solver='adam', tol=0.0001, validation_fraction=0.1,\n",
       "       verbose=True, warm_start=False)"
      ]
     },
     "execution_count": 22,
     "metadata": {},
     "output_type": "execute_result"
    }
   ],
   "source": [
    "# Treinando ...\n",
    "c.fit(cjtreinamento,rotulos_treinamento)"
   ]
  },
  {
   "cell_type": "code",
   "execution_count": 23,
   "metadata": {},
   "outputs": [],
   "source": [
    "# Com a rede treinada, hora de testar!!\n",
    "resultado = c.predict(cjteste)"
   ]
  },
  {
   "cell_type": "code",
   "execution_count": 25,
   "metadata": {},
   "outputs": [
    {
     "name": "stdout",
     "output_type": "stream",
     "text": [
      "Acurária 0.814814814815\n"
     ]
    }
   ],
   "source": [
    "rotulos_teste = rotulos[idx_treinamento:] # Slice dos rotulos da posição 1257 até o final do array\n",
    "\n",
    "acuracia = c.score(cjteste, rotulos_teste) # Medindo a perfomance: a acurácia foi:\n",
    "print ('Acurária',acuracia)"
   ]
  },
  {
   "cell_type": "code",
   "execution_count": 26,
   "metadata": {},
   "outputs": [],
   "source": [
    "# Alterando alguns parâmetros para melhorar a acurácia. Apenas alterei o default do ajustes de pessos para \n",
    "# sgd (stochastic gradient descent) e alterei a taxa de aprendizado\n",
    "\n",
    "c = MLPClassifier(solver='sgd',activation='logistic', learning_rate_init=0.12, verbose=True)"
   ]
  },
  {
   "cell_type": "code",
   "execution_count": 27,
   "metadata": {},
   "outputs": [
    {
     "name": "stdout",
     "output_type": "stream",
     "text": [
      "Iteration 1, loss = 1.92301152\n",
      "Iteration 2, loss = 0.75281369\n",
      "Iteration 3, loss = 0.31167586\n",
      "Iteration 4, loss = 0.15538100\n",
      "Iteration 5, loss = 0.10461524\n",
      "Iteration 6, loss = 0.07017166\n",
      "Iteration 7, loss = 0.05513287\n",
      "Iteration 8, loss = 0.04571609\n",
      "Iteration 9, loss = 0.03797095\n",
      "Iteration 10, loss = 0.03531565\n",
      "Iteration 11, loss = 0.02957703\n",
      "Iteration 12, loss = 0.02584254\n",
      "Iteration 13, loss = 0.02286624\n",
      "Iteration 14, loss = 0.02063556\n",
      "Iteration 15, loss = 0.01894501\n",
      "Iteration 16, loss = 0.01765469\n",
      "Iteration 17, loss = 0.01673629\n",
      "Iteration 18, loss = 0.01553654\n",
      "Iteration 19, loss = 0.01476381\n",
      "Iteration 20, loss = 0.01374823\n",
      "Iteration 21, loss = 0.01285972\n",
      "Iteration 22, loss = 0.01233291\n",
      "Iteration 23, loss = 0.01183230\n",
      "Iteration 24, loss = 0.01124897\n",
      "Iteration 25, loss = 0.01101129\n",
      "Iteration 26, loss = 0.01024851\n",
      "Iteration 27, loss = 0.00977657\n",
      "Iteration 28, loss = 0.00951503\n",
      "Iteration 29, loss = 0.00905553\n",
      "Iteration 30, loss = 0.00880868\n",
      "Iteration 31, loss = 0.00842409\n",
      "Iteration 32, loss = 0.00812994\n",
      "Iteration 33, loss = 0.00803900\n",
      "Iteration 34, loss = 0.00764084\n",
      "Iteration 35, loss = 0.00735126\n",
      "Iteration 36, loss = 0.00714277\n",
      "Iteration 37, loss = 0.00701821\n",
      "Iteration 38, loss = 0.00672625\n",
      "Iteration 39, loss = 0.00661204\n",
      "Iteration 40, loss = 0.00634254\n",
      "Iteration 41, loss = 0.00621054\n",
      "Iteration 42, loss = 0.00605042\n",
      "Iteration 43, loss = 0.00589663\n",
      "Iteration 44, loss = 0.00579602\n",
      "Iteration 45, loss = 0.00564569\n",
      "Iteration 46, loss = 0.00549942\n",
      "Iteration 47, loss = 0.00540841\n",
      "Iteration 48, loss = 0.00527894\n",
      "Iteration 49, loss = 0.00518635\n",
      "Iteration 50, loss = 0.00504388\n",
      "Iteration 51, loss = 0.00497278\n",
      "Iteration 52, loss = 0.00485790\n",
      "Iteration 53, loss = 0.00476864\n",
      "Iteration 54, loss = 0.00472616\n",
      "Iteration 55, loss = 0.00460965\n",
      "Iteration 56, loss = 0.00449512\n",
      "Iteration 57, loss = 0.00441996\n",
      "Iteration 58, loss = 0.00435913\n",
      "Iteration 59, loss = 0.00428305\n",
      "Training loss did not improve more than tol=0.000100 for two consecutive epochs. Stopping.\n",
      "Acurária 0.937037037037\n"
     ]
    }
   ],
   "source": [
    "c.fit(cjtreinamento,rotulos_treinamento)\n",
    "resultado = c.predict(cjteste)\n",
    "acuracia = c.score(cjteste, rotulos_teste)\n",
    "print ('Acurária',acuracia)"
   ]
  },
  {
   "cell_type": "code",
   "execution_count": null,
   "metadata": {},
   "outputs": [],
   "source": []
  }
 ],
 "metadata": {
  "kernelspec": {
   "display_name": "Python 2",
   "language": "python",
   "name": "python2"
  },
  "language_info": {
   "codemirror_mode": {
    "name": "ipython",
    "version": 2
   },
   "file_extension": ".py",
   "mimetype": "text/x-python",
   "name": "python",
   "nbconvert_exporter": "python",
   "pygments_lexer": "ipython2",
   "version": "2.7.13"
  }
 },
 "nbformat": 4,
 "nbformat_minor": 2
}
